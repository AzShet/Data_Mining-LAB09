{
 "cells": [
  {
   "cell_type": "markdown",
   "id": "68884639",
   "metadata": {},
   "source": [
    "# Sesión 9: Modelos de aprendizaje profundo\n",
    "Realizado por:\n",
    "\n",
    "**- Ruelas Flores, César Diego**"
   ]
  },
  {
   "cell_type": "markdown",
   "id": "c80f1d8c",
   "metadata": {},
   "source": [
    "## VARIABLES GLOBALES"
   ]
  },
  {
   "cell_type": "code",
   "execution_count": null,
   "id": "367b2b62",
   "metadata": {},
   "outputs": [],
   "source": [
    "# %pip install tensorflow"
   ]
  },
  {
   "cell_type": "code",
   "execution_count": 28,
   "id": "67bf7ce0",
   "metadata": {},
   "outputs": [],
   "source": [
    "import numpy as np\n",
    "import matplotlib.pyplot as plt\n",
    "import polars as pl\n",
    "import pytest\n",
    "from sklearn.datasets import load_breast_cancer\n",
    "from sklearn.model_selection import train_test_split\n",
    "from sklearn.preprocessing import StandardScaler\n",
    "from sklearn.neural_network import MLPClassifier\n",
    "from sklearn.metrics import classification_report, confusion_matrix, ConfusionMatrixDisplay\n",
    "from tensorflow.keras.datasets import mnist\n",
    "from tensorflow.keras.models import Sequential\n",
    "from tensorflow.keras.layers import Dense, Conv2D, MaxPooling2D, Flatten\n",
    "from tensorflow.keras.utils import to_categorical\n",
    "from tensorflow.keras import Input"
   ]
  },
  {
   "cell_type": "code",
   "execution_count": 2,
   "id": "ae32ba80",
   "metadata": {},
   "outputs": [],
   "source": [
    "# Semilla global para reproducibilidad\n",
    "SEED = 42"
   ]
  },
  {
   "cell_type": "markdown",
   "id": "7004452d",
   "metadata": {},
   "source": [
    "## FUNCIONES DE UTILIDAD"
   ]
  },
  {
   "cell_type": "code",
   "execution_count": null,
   "id": "ed754558",
   "metadata": {},
   "outputs": [
    {
     "name": "stdout",
     "output_type": "stream",
     "text": [
      "Overwriting utils.py\n"
     ]
    }
   ],
   "source": [
    "%%writefile utils.py\n",
    "\n",
    "import numpy as np\n",
    "import matplotlib.pyplot as plt\n",
    "import polars as pl\n",
    "from sklearn.datasets import load_breast_cancer\n",
    "from sklearn.model_selection import train_test_split\n",
    "from sklearn.preprocessing import StandardScaler\n",
    "from sklearn.neural_network import MLPClassifier\n",
    "from sklearn.metrics import classification_report, confusion_matrix, ConfusionMatrixDisplay\n",
    "from tensorflow.keras.datasets import mnist\n",
    "from tensorflow.keras.models import Sequential\n",
    "from tensorflow.keras.layers import Dense, Conv2D, MaxPooling2D, Flatten\n",
    "from tensorflow.keras.utils import to_categorical\n",
    "from tensorflow.keras import Input\n",
    "\n",
    "\n",
    "def cargar_datos_clasificacion() -> tuple[np.ndarray, np.ndarray]:\n",
    "    \"\"\"\n",
    "    Carga el dataset de cáncer de mama desde scikit-learn y lo convierte a arrays.\n",
    "\n",
    "    Returns:\n",
    "        X: Array con características.\n",
    "        y: Array con etiquetas binarias (1: maligno, 0: benigno).\n",
    "    \"\"\"\n",
    "    datos = load_breast_cancer()\n",
    "    X = datos.data\n",
    "    y = np.where(datos.target == 0, 1, 0)\n",
    "    return X, y\n",
    "\n",
    "\n",
    "def crear_modelo_clasificacion() -> MLPClassifier:\n",
    "    \"\"\"\n",
    "    Crea un modelo MLPClassifier configurado para clasificación binaria.\n",
    "\n",
    "    Returns:\n",
    "        Modelo MLPClassifier listo para entrenamiento.\n",
    "    \"\"\"\n",
    "    return MLPClassifier(\n",
    "        hidden_layer_sizes=(50, 25),\n",
    "        activation='relu',\n",
    "        solver='adam',\n",
    "        max_iter=1000,\n",
    "        early_stopping=True,\n",
    "        random_state=42\n",
    "    )\n",
    "\n",
    "\n",
    "def evaluar_modelo_clasificacion(modelo: MLPClassifier, X_test: np.ndarray, y_test: np.ndarray) -> None:\n",
    "    \"\"\"\n",
    "    Evalúa el modelo MLP con métricas estándar y matriz de confusión.\n",
    "\n",
    "    Args:\n",
    "        modelo: Modelo entrenado.\n",
    "        X_test: Datos de entrada de prueba.\n",
    "        y_test: Etiquetas verdaderas.\n",
    "    \"\"\"\n",
    "    y_pred = modelo.predict(X_test)\n",
    "    print(\"\\n🔍 Reporte de Clasificación:\")\n",
    "    print(classification_report(y_test, y_pred, target_names=['Benigno', 'Maligno']))\n",
    "    cm = confusion_matrix(y_test, y_pred)\n",
    "    disp = ConfusionMatrixDisplay(cm, display_labels=['Benigno', 'Maligno'])\n",
    "    disp.plot(cmap='Blues')\n",
    "    plt.title(\"Matriz de Confusión\")\n",
    "    plt.show()\n",
    "\n",
    "\n",
    "def preprocesar_mnist() -> tuple[np.ndarray, np.ndarray, np.ndarray, np.ndarray]:\n",
    "    \"\"\"\n",
    "    Carga y preprocesa el dataset MNIST para su uso en CNN.\n",
    "\n",
    "    Returns:\n",
    "        X_train, X_test, y_train, y_test: Datos normalizados y etiquetas codificadas.\n",
    "    \"\"\"\n",
    "    (X_train, y_train), (X_test, y_test) = mnist.load_data()\n",
    "    X_train = X_train.reshape(-1, 28, 28, 1).astype('float32') / 255.0\n",
    "    X_test = X_test.reshape(-1, 28, 28, 1).astype('float32') / 255.0\n",
    "    y_train = to_categorical(y_train)\n",
    "    y_test = to_categorical(y_test)\n",
    "    return X_train, X_test, y_train, y_test\n",
    "\n",
    "\n",
    "def crear_cnn() -> Sequential:\n",
    "    \"\"\"\n",
    "    Crea y compila un modelo de red neuronal convolucional simple para MNIST.\n",
    "\n",
    "    Returns:\n",
    "        Modelo CNN compilado.\n",
    "    \"\"\"\n",
    "    model = Sequential([\n",
    "        Input(shape=(28, 28, 1)),  # ✅ Solución a la advertencia de Keras\n",
    "        Conv2D(32, (3, 3), activation='relu'),\n",
    "        MaxPooling2D((2, 2)),\n",
    "        Flatten(),\n",
    "        Dense(128, activation='relu'),\n",
    "        Dense(10, activation='softmax')\n",
    "    ])\n",
    "    model.compile(optimizer='adam', loss='categorical_crossentropy', metrics=['accuracy'])\n",
    "    return model\n",
    "\n",
    "\n",
    "def entrenar_cnn(modelo: Sequential, X_train: np.ndarray, y_train: np.ndarray, epochs: int = 10) -> None:\n",
    "    \"\"\"\n",
    "    Entrena una red CNN y visualiza la evolución de la precisión.\n",
    "\n",
    "    Args:\n",
    "        modelo: Modelo CNN.\n",
    "        X_train: Imágenes de entrenamiento.\n",
    "        y_train: Etiquetas en one-hot.\n",
    "        epochs: Número de épocas de entrenamiento.\n",
    "    \"\"\"\n",
    "    historia = modelo.fit(\n",
    "        X_train, y_train,\n",
    "        validation_split=0.2,\n",
    "        epochs=epochs,\n",
    "        batch_size=128,\n",
    "        verbose=1\n",
    "    )\n",
    "    plt.plot(historia.history['accuracy'], label='Entrenamiento')\n",
    "    plt.plot(historia.history['val_accuracy'], label='Validación')\n",
    "    plt.title('Evolución de la Precisión')\n",
    "    plt.xlabel('Epoca')\n",
    "    plt.ylabel('Precisión')\n",
    "    plt.legend()\n",
    "    plt.show()\n"
   ]
  },
  {
   "cell_type": "markdown",
   "id": "c42c41f3",
   "metadata": {},
   "source": [
    "## IMPLEMENTACIÓN PRINCIPAL"
   ]
  },
  {
   "cell_type": "code",
   "execution_count": 32,
   "id": "ff9b36f8",
   "metadata": {},
   "outputs": [
    {
     "name": "stdout",
     "output_type": "stream",
     "text": [
      "\n",
      "==================================================\n",
      "PARTE A: CLASIFICACIÓN DE CÁNCER DE MAMA\n",
      "==================================================\n",
      "\n",
      "🔍 Reporte de Clasificación:\n",
      "              precision    recall  f1-score   support\n",
      "\n",
      "     Benigno       0.91      0.93      0.92        72\n",
      "     Maligno       0.88      0.83      0.85        42\n",
      "\n",
      "    accuracy                           0.89       114\n",
      "   macro avg       0.89      0.88      0.89       114\n",
      "weighted avg       0.89      0.89      0.89       114\n",
      "\n"
     ]
    },
    {
     "data": {
      "image/png": "[encoded data removed]",
      "text/plain": [
       "<Figure size 640x480 with 2 Axes>"
      ]
     },
     "metadata": {},
     "output_type": "display_data"
    }
   ],
   "source": [
    "from utils import *\n",
    "from sklearn.preprocessing import StandardScaler\n",
    "\n",
    "if __name__ == \"__main__\":\n",
    "    print(\"\\n\" + \"=\" * 50)\n",
    "    print(\"PARTE A: CLASIFICACIÓN DE CÁNCER DE MAMA\")\n",
    "    print(\"=\" * 50)\n",
    "\n",
    "    X, y = cargar_datos_clasificacion()\n",
    "    X_train, X_test, y_train, y_test = train_test_split(X, y, test_size=0.2, stratify=y, random_state=42)\n",
    "\n",
    "    scaler = StandardScaler()\n",
    "    X_train = scaler.fit_transform(X_train)\n",
    "    X_test = scaler.transform(X_test)\n",
    "\n",
    "    modelo = crear_modelo_clasificacion()\n",
    "    modelo.fit(X_train, y_train)\n",
    "    evaluar_modelo_clasificacion(modelo, X_test, y_test)"
   ]
  },
  {
   "cell_type": "code",
   "execution_count": 33,
   "id": "5d2600ff",
   "metadata": {},
   "outputs": [
    {
     "name": "stdout",
     "output_type": "stream",
     "text": [
      "\n",
      "==================================================\n",
      "PARTE B: RED CONVOLUCIONAL CON MNIST\n",
      "==================================================\n",
      "\n",
      "🧠 Arquitectura de la CNN:\n"
     ]
    },
    {
     "data": {
      "text/html": [
       "<pre style=\"white-space:pre;overflow-x:auto;line-height:normal;font-family:Menlo,'DejaVu Sans Mono',consolas,'Courier New',monospace\"><span style=\"font-weight: bold\">Model: \"sequential\"</span>\n",
       "</pre>\n"
      ],
      "text/plain": [
       "\u001b[1mModel: \"sequential\"\u001b[0m\n"
      ]
     },
     "metadata": {},
     "output_type": "display_data"
    },
    {
     "data": {
      "text/html": [
       "<pre style=\"white-space:pre;overflow-x:auto;line-height:normal;font-family:Menlo,'DejaVu Sans Mono',consolas,'Courier New',monospace\">┏━━━━━━━━━━━━━━━━━━━━━━━━━━━━━━━━━┳━━━━━━━━━━━━━━━━━━━━━━━━┳━━━━━━━━━━━━━━━┓\n",
       "┃<span style=\"font-weight: bold\"> Layer (type)                    </span>┃<span style=\"font-weight: bold\"> Output Shape           </span>┃<span style=\"font-weight: bold\">       Param # </span>┃\n",
       "┡━━━━━━━━━━━━━━━━━━━━━━━━━━━━━━━━━╇━━━━━━━━━━━━━━━━━━━━━━━━╇━━━━━━━━━━━━━━━┩\n",
       "│ conv2d (<span style=\"color: #0087ff; text-decoration-color: #0087ff\">Conv2D</span>)                 │ (<span style=\"color: #00d7ff; text-decoration-color: #00d7ff\">None</span>, <span style=\"color: #00af00; text-decoration-color: #00af00\">26</span>, <span style=\"color: #00af00; text-decoration-color: #00af00\">26</span>, <span style=\"color: #00af00; text-decoration-color: #00af00\">32</span>)     │           <span style=\"color: #00af00; text-decoration-color: #00af00\">320</span> │\n",
       "├─────────────────────────────────┼────────────────────────┼───────────────┤\n",
       "│ max_pooling2d (<span style=\"color: #0087ff; text-decoration-color: #0087ff\">MaxPooling2D</span>)    │ (<span style=\"color: #00d7ff; text-decoration-color: #00d7ff\">None</span>, <span style=\"color: #00af00; text-decoration-color: #00af00\">13</span>, <span style=\"color: #00af00; text-decoration-color: #00af00\">13</span>, <span style=\"color: #00af00; text-decoration-color: #00af00\">32</span>)     │             <span style=\"color: #00af00; text-decoration-color: #00af00\">0</span> │\n",
       "├─────────────────────────────────┼────────────────────────┼───────────────┤\n",
       "│ flatten (<span style=\"color: #0087ff; text-decoration-color: #0087ff\">Flatten</span>)               │ (<span style=\"color: #00d7ff; text-decoration-color: #00d7ff\">None</span>, <span style=\"color: #00af00; text-decoration-color: #00af00\">5408</span>)           │             <span style=\"color: #00af00; text-decoration-color: #00af00\">0</span> │\n",
       "├─────────────────────────────────┼────────────────────────┼───────────────┤\n",
       "│ dense (<span style=\"color: #0087ff; text-decoration-color: #0087ff\">Dense</span>)                   │ (<span style=\"color: #00d7ff; text-decoration-color: #00d7ff\">None</span>, <span style=\"color: #00af00; text-decoration-color: #00af00\">128</span>)            │       <span style=\"color: #00af00; text-decoration-color: #00af00\">692,352</span> │\n",
       "├─────────────────────────────────┼────────────────────────┼───────────────┤\n",
       "│ dense_1 (<span style=\"color: #0087ff; text-decoration-color: #0087ff\">Dense</span>)                 │ (<span style=\"color: #00d7ff; text-decoration-color: #00d7ff\">None</span>, <span style=\"color: #00af00; text-decoration-color: #00af00\">10</span>)             │         <span style=\"color: #00af00; text-decoration-color: #00af00\">1,290</span> │\n",
       "└─────────────────────────────────┴────────────────────────┴───────────────┘\n",
       "</pre>\n"
      ],
      "text/plain": [
       "┏━━━━━━━━━━━━━━━━━━━━━━━━━━━━━━━━━┳━━━━━━━━━━━━━━━━━━━━━━━━┳━━━━━━━━━━━━━━━┓\n",
       "┃\u001b[1m \u001b[0m\u001b[1mLayer (type)                   \u001b[0m\u001b[1m \u001b[0m┃\u001b[1m \u001b[0m\u001b[1mOutput Shape          \u001b[0m\u001b[1m \u001b[0m┃\u001b[1m \u001b[0m\u001b[1m      Param #\u001b[0m\u001b[1m \u001b[0m┃\n",
       "┡━━━━━━━━━━━━━━━━━━━━━━━━━━━━━━━━━╇━━━━━━━━━━━━━━━━━━━━━━━━╇━━━━━━━━━━━━━━━┩\n",
       "│ conv2d (\u001b[38;5;33mConv2D\u001b[0m)                 │ (\u001b[38;5;45mNone\u001b[0m, \u001b[38;5;34m26\u001b[0m, \u001b[38;5;34m26\u001b[0m, \u001b[38;5;34m32\u001b[0m)     │           \u001b[38;5;34m320\u001b[0m │\n",
       "├─────────────────────────────────┼────────────────────────┼───────────────┤\n",
       "│ max_pooling2d (\u001b[38;5;33mMaxPooling2D\u001b[0m)    │ (\u001b[38;5;45mNone\u001b[0m, \u001b[38;5;34m13\u001b[0m, \u001b[38;5;34m13\u001b[0m, \u001b[38;5;34m32\u001b[0m)     │             \u001b[38;5;34m0\u001b[0m │\n",
       "├─────────────────────────────────┼────────────────────────┼───────────────┤\n",
       "│ flatten (\u001b[38;5;33mFlatten\u001b[0m)               │ (\u001b[38;5;45mNone\u001b[0m, \u001b[38;5;34m5408\u001b[0m)           │             \u001b[38;5;34m0\u001b[0m │\n",
       "├─────────────────────────────────┼────────────────────────┼───────────────┤\n",
       "│ dense (\u001b[38;5;33mDense\u001b[0m)                   │ (\u001b[38;5;45mNone\u001b[0m, \u001b[38;5;34m128\u001b[0m)            │       \u001b[38;5;34m692,352\u001b[0m │\n",
       "├─────────────────────────────────┼────────────────────────┼───────────────┤\n",
       "│ dense_1 (\u001b[38;5;33mDense\u001b[0m)                 │ (\u001b[38;5;45mNone\u001b[0m, \u001b[38;5;34m10\u001b[0m)             │         \u001b[38;5;34m1,290\u001b[0m │\n",
       "└─────────────────────────────────┴────────────────────────┴───────────────┘\n"
      ]
     },
     "metadata": {},
     "output_type": "display_data"
    },
    {
     "data": {
      "text/html": [
       "<pre style=\"white-space:pre;overflow-x:auto;line-height:normal;font-family:Menlo,'DejaVu Sans Mono',consolas,'Courier New',monospace\"><span style=\"font-weight: bold\"> Total params: </span><span style=\"color: #00af00; text-decoration-color: #00af00\">693,962</span> (2.65 MB)\n",
       "</pre>\n"
      ],
      "text/plain": [
       "\u001b[1m Total params: \u001b[0m\u001b[38;5;34m693,962\u001b[0m (2.65 MB)\n"
      ]
     },
     "metadata": {},
     "output_type": "display_data"
    },
    {
     "data": {
      "text/html": [
       "<pre style=\"white-space:pre;overflow-x:auto;line-height:normal;font-family:Menlo,'DejaVu Sans Mono',consolas,'Courier New',monospace\"><span style=\"font-weight: bold\"> Trainable params: </span><span style=\"color: #00af00; text-decoration-color: #00af00\">693,962</span> (2.65 MB)\n",
       "</pre>\n"
      ],
      "text/plain": [
       "\u001b[1m Trainable params: \u001b[0m\u001b[38;5;34m693,962\u001b[0m (2.65 MB)\n"
      ]
     },
     "metadata": {},
     "output_type": "display_data"
    },
    {
     "data": {
      "text/html": [
       "<pre style=\"white-space:pre;overflow-x:auto;line-height:normal;font-family:Menlo,'DejaVu Sans Mono',consolas,'Courier New',monospace\"><span style=\"font-weight: bold\"> Non-trainable params: </span><span style=\"color: #00af00; text-decoration-color: #00af00\">0</span> (0.00 B)\n",
       "</pre>\n"
      ],
      "text/plain": [
       "\u001b[1m Non-trainable params: \u001b[0m\u001b[38;5;34m0\u001b[0m (0.00 B)\n"
      ]
     },
     "metadata": {},
     "output_type": "display_data"
    },
    {
     "name": "stdout",
     "output_type": "stream",
     "text": [
      "Epoch 1/10\n",
      "\u001b[1m375/375\u001b[0m \u001b[32m━━━━━━━━━━━━━━━━━━━━\u001b[0m\u001b[37m\u001b[0m \u001b[1m11s\u001b[0m 24ms/step - accuracy: 0.8625 - loss: 0.4934 - val_accuracy: 0.9722 - val_loss: 0.1044\n",
      "Epoch 2/10\n",
      "\u001b[1m375/375\u001b[0m \u001b[32m━━━━━━━━━━━━━━━━━━━━\u001b[0m\u001b[37m\u001b[0m \u001b[1m9s\u001b[0m 24ms/step - accuracy: 0.9758 - loss: 0.0877 - val_accuracy: 0.9768 - val_loss: 0.0746\n",
      "Epoch 3/10\n",
      "\u001b[1m375/375\u001b[0m \u001b[32m━━━━━━━━━━━━━━━━━━━━\u001b[0m\u001b[37m\u001b[0m \u001b[1m9s\u001b[0m 23ms/step - accuracy: 0.9829 - loss: 0.0578 - val_accuracy: 0.9793 - val_loss: 0.0679\n",
      "Epoch 4/10\n",
      "\u001b[1m375/375\u001b[0m \u001b[32m━━━━━━━━━━━━━━━━━━━━\u001b[0m\u001b[37m\u001b[0m \u001b[1m9s\u001b[0m 23ms/step - accuracy: 0.9875 - loss: 0.0430 - val_accuracy: 0.9830 - val_loss: 0.0564\n",
      "Epoch 5/10\n",
      "\u001b[1m375/375\u001b[0m \u001b[32m━━━━━━━━━━━━━━━━━━━━\u001b[0m\u001b[37m\u001b[0m \u001b[1m8s\u001b[0m 21ms/step - accuracy: 0.9910 - loss: 0.0294 - val_accuracy: 0.9839 - val_loss: 0.0553\n",
      "Epoch 6/10\n",
      "\u001b[1m375/375\u001b[0m \u001b[32m━━━━━━━━━━━━━━━━━━━━\u001b[0m\u001b[37m\u001b[0m \u001b[1m10s\u001b[0m 27ms/step - accuracy: 0.9933 - loss: 0.0241 - val_accuracy: 0.9845 - val_loss: 0.0553\n",
      "Epoch 7/10\n",
      "\u001b[1m375/375\u001b[0m \u001b[32m━━━━━━━━━━━━━━━━━━━━\u001b[0m\u001b[37m\u001b[0m \u001b[1m12s\u001b[0m 32ms/step - accuracy: 0.9949 - loss: 0.0177 - val_accuracy: 0.9845 - val_loss: 0.0536\n",
      "Epoch 8/10\n",
      "\u001b[1m375/375\u001b[0m \u001b[32m━━━━━━━━━━━━━━━━━━━━\u001b[0m\u001b[37m\u001b[0m \u001b[1m19s\u001b[0m 27ms/step - accuracy: 0.9958 - loss: 0.0145 - val_accuracy: 0.9847 - val_loss: 0.0557\n",
      "Epoch 9/10\n",
      "\u001b[1m375/375\u001b[0m \u001b[32m━━━━━━━━━━━━━━━━━━━━\u001b[0m\u001b[37m\u001b[0m \u001b[1m11s\u001b[0m 29ms/step - accuracy: 0.9969 - loss: 0.0102 - val_accuracy: 0.9843 - val_loss: 0.0594\n",
      "Epoch 10/10\n",
      "\u001b[1m375/375\u001b[0m \u001b[32m━━━━━━━━━━━━━━━━━━━━\u001b[0m\u001b[37m\u001b[0m \u001b[1m9s\u001b[0m 24ms/step - accuracy: 0.9979 - loss: 0.0078 - val_accuracy: 0.9826 - val_loss: 0.0630\n"
     ]
    },
    {
     "data": {
      "image/png": "[encoded data removed]",
      "text/plain": [
       "<Figure size 640x480 with 1 Axes>"
      ]
     },
     "metadata": {},
     "output_type": "display_data"
    },
    {
     "name": "stdout",
     "output_type": "stream",
     "text": [
      "\n",
      "🎯 Precisión en test: 98.59%\n"
     ]
    }
   ],
   "source": [
    "print(\"\\n\" + \"=\" * 50)\n",
    "print(\"PARTE B: RED CONVOLUCIONAL CON MNIST\")\n",
    "print(\"=\" * 50)\n",
    "\n",
    "X_train_mnist, X_test_mnist, y_train_mnist, y_test_mnist = preprocesar_mnist()\n",
    "modelo_cnn = crear_cnn()\n",
    "print(\"\\n🧠 Arquitectura de la CNN:\")\n",
    "modelo_cnn.summary()\n",
    "entrenar_cnn(modelo_cnn, X_train_mnist, y_train_mnist, epochs=10)\n",
    "loss, acc = modelo_cnn.evaluate(X_test_mnist, y_test_mnist, verbose=0)\n",
    "print(f\"\\n🎯 Precisión en test: {acc:.2%}\")"
   ]
  },
  {
   "cell_type": "markdown",
   "id": "9f8c48cb",
   "metadata": {},
   "source": [
    "## TESTING (test_utils.py)"
   ]
  },
  {
   "cell_type": "code",
   "execution_count": 36,
   "id": "99e8d0c3",
   "metadata": {},
   "outputs": [
    {
     "name": "stdout",
     "output_type": "stream",
     "text": [
      "Overwriting ../tests/test_utils.py\n"
     ]
    }
   ],
   "source": [
    "%%writefile ../tests/test_utils.py\n",
    "import numpy as np\n",
    "from sklearn.neural_network import MLPClassifier\n",
    "from src.utils import cargar_datos_clasificacion, crear_modelo_clasificacion, preprocesar_mnist, crear_cnn\n",
    "import pytest\n",
    "\n",
    "\n",
    "def test_cargar_datos_clasificacion():\n",
    "    X, y = cargar_datos_clasificacion()\n",
    "    assert isinstance(X, np.ndarray)\n",
    "    assert isinstance(y, np.ndarray)\n",
    "    assert X.shape[0] == y.shape[0]\n",
    "    assert X.shape[1] > 0\n",
    "    assert set(np.unique(y)).issubset({0, 1})\n",
    "\n",
    "\n",
    "def test_crear_modelo_clasificacion():\n",
    "    modelo = crear_modelo_clasificacion()\n",
    "    assert isinstance(modelo, MLPClassifier)\n",
    "    assert hasattr(modelo, 'fit')\n",
    "    assert hasattr(modelo, 'predict')\n",
    "\n",
    "\n",
    "def test_preprocesar_mnist():\n",
    "    X_train, X_test, y_train, y_test = preprocesar_mnist()\n",
    "    assert X_train.shape[1:] == (28, 28, 1)\n",
    "    assert X_train.dtype == np.float32\n",
    "    assert X_train.max() <= 1.0\n",
    "    assert y_train.shape[1] == 10  # One-hot\n",
    "\n",
    "\n",
    "def test_crear_cnn():\n",
    "    cnn = crear_cnn()\n",
    "    assert hasattr(cnn, 'fit')\n",
    "    assert hasattr(cnn, 'evaluate')\n",
    "    assert cnn.input_shape == (None, 28, 28, 1)"
   ]
  },
  {
   "cell_type": "markdown",
   "id": "dbac7843",
   "metadata": {},
   "source": [
    "## EJECUCIÓN"
   ]
  },
  {
   "cell_type": "code",
   "execution_count": null,
   "id": "5419aaf8",
   "metadata": {},
   "outputs": [],
   "source": [
    "# %pip install tensorflow"
   ]
  },
  {
   "cell_type": "markdown",
   "id": "b7bfce17",
   "metadata": {},
   "source": [
    "metodo local para test"
   ]
  },
  {
   "cell_type": "code",
   "execution_count": null,
   "id": "663a53ac",
   "metadata": {},
   "outputs": [
    {
     "name": "stdout",
     "output_type": "stream",
     "text": [
      "c:\\Users\\AzShet\\Documents\\Jupyter_LAB\\jupyter_projects\\5to_ciclo\\DataMining\\lab9\\Data_Mining-LAB09\n",
      "Directorio de trabajo actual establecido en: c:\\Users\\AzShet\\Documents\\Jupyter_LAB\\jupyter_projects\\5to_ciclo\\DataMining\\lab9\\Data_Mining-LAB09\n",
      "PYTHONPATH establecido en: c:\\Users\\AzShet\\Documents\\Jupyter_LAB\\jupyter_projects\\5to_ciclo\\DataMining\\lab9\\Data_Mining-LAB09;c:\\Users\\AzShet\\Documents\\Jupyter_LAB\\jupyter_projects\\5to_ciclo\\DataMining\\lab9\\Data_Mining-LAB09;c:\\Users\\AzShet\\Documents\\Jupyter_LAB\\jupyter_projects\\5to_ciclo\\DataMining\\lab9\\Data_Mining-LAB09;\n"
     ]
    }
   ],
   "source": [
    "import os\n",
    "import sys\n",
    "\n",
    "# Esta es la ruta que pytest usa como rootdir.\n",
    "project_root_path = r'c:\\Users\\AzShet\\Documents\\Jupyter_LAB\\jupyter_projects\\5to_ciclo\\DataMining\\lab9\\Data_Mining-LAB09'\n",
    "\n",
    "\n",
    "'''\n",
    "cambiamos el directorio de trabajo del kernel de jupyter a la raiz de mi proyecto.\n",
    "para que el pytest encuentre el 'pytest.ini\n",
    "'''\n",
    "\n",
    "%cd {project_root_path}\n",
    "print(f\"Directorio de trabajo actual establecido en: {os.getcwd()}\")\n",
    "\n",
    "'''\n",
    "toca configurar la variable de entorno de PYTHONPATH; para que python sepa donde buscar el paquete 'src'(ya que lo tenemos en el root del proyecto)\n",
    "'''\n",
    "\n",
    "os.environ['PYTHONPATH'] = project_root_path + os.pathsep + os.environ.get('PYTHONPATH', '')\n",
    "print(f\"PYTHONPATH establecido en: {os.environ['PYTHONPATH']}\")"
   ]
  },
  {
   "cell_type": "code",
   "execution_count": 63,
   "id": "a6f3b9d4",
   "metadata": {},
   "outputs": [
    {
     "name": "stdout",
     "output_type": "stream",
     "text": [
      "\u001b[1m============================= test session starts =============================\u001b[0m\n",
      "platform win32 -- Python 3.12.5, pytest-8.4.0, pluggy-1.6.0 -- c:\\Users\\AzShet\\Documents\\Jupyter_LAB\\jupyter_projects\\5to_ciclo\\DataMining\\lab9\\.venv\\Scripts\\python.exe\n",
      "cachedir: .pytest_cache\n",
      "rootdir: c:\\Users\\AzShet\\Documents\\Jupyter_LAB\\jupyter_projects\\5to_ciclo\\DataMining\\lab9\\Data_Mining-LAB09\n",
      "configfile: pytest.ini\n",
      "\u001b[1mcollecting ... \u001b[0mcollected 4 items\n",
      "\n",
      "tests/test_utils.py::test_cargar_datos_clasificacion \u001b[32mPASSED\u001b[0m\u001b[32m              [ 25%]\u001b[0m\n",
      "tests/test_utils.py::test_crear_modelo_clasificacion \u001b[32mPASSED\u001b[0m\u001b[32m              [ 50%]\u001b[0m\n",
      "tests/test_utils.py::test_preprocesar_mnist \u001b[32mPASSED\u001b[0m\u001b[32m                       [ 75%]\u001b[0m\n",
      "tests/test_utils.py::test_crear_cnn \u001b[32mPASSED\u001b[0m\u001b[32m                               [100%]\u001b[0m\n",
      "\n",
      "\u001b[32m============================= \u001b[32m\u001b[1m4 passed\u001b[0m\u001b[32m in 13.01s\u001b[0m\u001b[32m ==============================\u001b[0m\n"
     ]
    }
   ],
   "source": [
    "!pytest tests/test_utils.py -v"
   ]
  }
 ],
 "metadata": {
  "kernelspec": {
   "display_name": "Python 3",
   "language": "python",
   "name": "python3"
  },
  "language_info": {
   "codemirror_mode": {
    "name": "ipython",
    "version": 3
   },
   "file_extension": ".py",
   "mimetype": "text/x-python",
   "name": "python",
   "nbconvert_exporter": "python",
   "pygments_lexer": "ipython3",
   "version": "3.12.5"
  }
 },
 "nbformat": 4,
 "nbformat_minor": 5
}
